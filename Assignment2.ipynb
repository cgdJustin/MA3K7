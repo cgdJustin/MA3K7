{
 "cells": [
  {
   "cell_type": "markdown",
   "id": "d6ac0c63",
   "metadata": {},
   "source": [
    "## Generating matrix \n",
    "The matrix is under setting only including number of elements 0 and 1.\n",
    "If n is even, then the number of 0 and 1 are the same.\n",
    "If n is odd, then one number of the 0 and 1 are $\\lfloor{(n \\times n)}/2 \\rfloor$ and the other one is $\\lfloor{(n \\times n)}/2 \\rfloor$ +1"
   ]
  },
  {
   "cell_type": "markdown",
   "id": "7b71166c",
   "metadata": {},
   "source": [
    "### Simulating the game with strategy \n",
    "- Aim to use this to investigate 2x2 case.\n"
   ]
  },
  {
   "cell_type": "code",
   "execution_count": 58,
   "id": "fef01a9d",
   "metadata": {},
   "outputs": [],
   "source": [
    "import numpy as np\n",
    "import random\n",
    "\n",
    "def initialize_grid(n):\n",
    "    return np.full((n, n), -1)  # Initialize an n x n grid with -1\n",
    "\n",
    "def find_strategic_move(grid, player, strategy):\n",
    "    available_moves = np.argwhere(grid == -1)\n",
    "    if strategy == \"follow\":\n",
    "        # Find a move that shares a row or column with an existing move\n",
    "        player_moves = np.argwhere(grid == player)\n",
    "        for move in available_moves:\n",
    "            if any((move[0] == pm[0] or move[1] == pm[1]) for pm in player_moves):\n",
    "    elif strategy == \"avoid\":\n",
    "        # Find a move that doesn't share a row or column with the opponent's moves\n",
    "        opponent_moves = np.argwhere(grid == (1 - player))\n",
    "        for move in available_moves:\n",
    "            if all(move[0] != om[0] and move[1] != om[1] for om in opponent_moves):\n",
    "                return move\n",
    "    # If no strategic move is found or needed, return None\n",
    "    return None\n",
    "\n",
    "def random_move(grid):\n",
    "    available_moves = np.argwhere(grid == -1)\n",
    "    return available_moves[random.randint(0, len(available_moves) - 1)]\n",
    "\n",
    "def play_game(n, my_strategy, friend_strategy, I_start=True):\n",
    "    grid = initialize_grid(n)\n",
    "    player = 0 if I_start else 1  # Determine who starts based on I_start\n",
    "\n",
    "    while -1 in grid:\n",
    "        if player == 0:  # My turn\n",
    "            move = find_strategic_move(grid, player, my_strategy)\n",
    "            if move is None:\n",
    "                move = random_move(grid)\n",
    "            grid[move[0], move[1]] = player\n",
    "        else:  # Friend's turn (random move)\n",
    "            move = random_move(grid)\n",
    "            grid[move[0], move[1]] = player\n",
    "\n",
    "        player = 1 - player  # Switch turns\n",
    "\n",
    "    determinant = np.linalg.det(grid)\n",
    "    win = determinant == 0\n",
    "    return win, determinant\n",
    "\n",
    "\n",
    "\n"
   ]
  },
  {
   "cell_type": "code",
   "execution_count": 59,
   "id": "3c6eba88",
   "metadata": {},
   "outputs": [
    {
     "data": {
      "text/plain": [
       "(1.0, 1.0)"
      ]
     },
     "execution_count": 59,
     "metadata": {},
     "output_type": "execute_result"
    }
   ],
   "source": [
    "# Adjusting the simulation to focus on 2x2 matrix and separating the cases where the user starts versus when the friend starts.\n",
    "\n",
    "def simulate_games(n, iterations, I_start):\n",
    "    wins = 0\n",
    "    for _ in range(iterations):\n",
    "        my_strategy = \"follow\" if I_start else \"avoid\"\n",
    "        friend_strategy = \"random\"\n",
    "        win, _ = play_game(n, my_strategy, friend_strategy, I_start)\n",
    "        if win:\n",
    "            wins += 1\n",
    "    return wins / iterations\n",
    "\n",
    "# Parameters\n",
    "n = 2  # Grid size for 2x2 matrix\n",
    "iterations = 1000  # Number of games to simulate\n",
    "\n",
    "# Simulate games for both scenarios\n",
    "win_rate_I_start = simulate_games(n, iterations, True)  # Case where I go first\n",
    "win_rate_friend_starts = simulate_games(n, iterations, False)  # Case where the friend goes first\n",
    "\n",
    "win_rate_I_start, win_rate_friend_starts\n"
   ]
  },
  {
   "cell_type": "markdown",
   "id": "e12efc7d",
   "metadata": {},
   "source": [
    "So in this case, I have found out a 100% winning strategy in 2x2 no matter who starts"
   ]
  },
  {
   "cell_type": "markdown",
   "id": "e7ecb4db",
   "metadata": {},
   "source": [
    "## Investigate 3x3 case"
   ]
  },
  {
   "cell_type": "code",
   "execution_count": 30,
   "id": "43cc7558",
   "metadata": {},
   "outputs": [
    {
     "data": {
      "text/plain": [
       "144"
      ]
     },
     "execution_count": 30,
     "metadata": {},
     "output_type": "execute_result"
    }
   ],
   "source": [
    "import numpy as np\n",
    "from itertools import combinations\n",
    "\n",
    "def generate_all_matrices_with_det_0(n):\n",
    "    # Determine the number of 0s and 1s\n",
    "    total_elements = n * n\n",
    "    # Adjusting for both cases: four 1s (five 0s) and five 1s (four 0s)\n",
    "    winning_matrices = []\n",
    "    for num_ones in [4, 5]:\n",
    "        # Generate all unique combinations of positions for the ones\n",
    "        positions = range(total_elements)\n",
    "        ones_positions = list(combinations(positions, num_ones))\n",
    "        \n",
    "        # For each combination, generate a matrix and check its determinant\n",
    "        for pos in ones_positions:\n",
    "            matrix = np.zeros(total_elements, dtype=int)\n",
    "            matrix[list(pos)] = 1\n",
    "            if np.isclose(np.linalg.det(matrix.reshape(n, n)), 0, atol=1e-10):\n",
    "                winning_matrices.append(matrix.reshape(n, n))\n",
    "                \n",
    "    return winning_matrices\n",
    "\n",
    "# Example usage\n",
    "n = 3\n",
    "winning_matrices = generate_all_matrices_with_det_0(n)\n",
    "\n",
    "# Due to the potentially large number of matrices, we'll output the count\n",
    "\n"
   ]
  },
  {
   "cell_type": "code",
   "execution_count": 62,
   "id": "abd2f60b",
   "metadata": {},
   "outputs": [
    {
     "data": {
      "text/plain": [
       "(0.805, 0.688)"
      ]
     },
     "execution_count": 62,
     "metadata": {},
     "output_type": "execute_result"
    }
   ],
   "source": [
    "# Adjusting the simulation to focus on 2x2 matrix and separating the cases where the user starts versus when the friend starts.\n",
    "\n",
    "def simulate_games(n, iterations, I_start):\n",
    "    wins = 0\n",
    "    for _ in range(iterations):\n",
    "        my_strategy = \"follow\" if I_start else \"avoid\"\n",
    "        friend_strategy = \"random\"\n",
    "        win, _ = play_game(n, my_strategy, friend_strategy, I_start)\n",
    "        if win:\n",
    "            wins += 1\n",
    "    return wins / iterations\n",
    "\n",
    "# Parameters\n",
    "n = 5  # Grid size for 2x2 matrix\n",
    "iterations = 1000  # Number of games to simulate\n",
    "\n",
    "# Simulate games for both scenarios\n",
    "win_rate_I_start = simulate_games(n, iterations, True)  # Case where I go first\n",
    "win_rate_friend_starts = simulate_games(n, iterations, False)  # Case where the friend goes first\n",
    "\n",
    "win_rate_I_start, win_rate_friend_starts"
   ]
  },
  {
   "cell_type": "code",
   "execution_count": 73,
   "id": "3f537e4a",
   "metadata": {},
   "outputs": [
    {
     "name": "stdout",
     "output_type": "stream",
     "text": [
      "[1.0, 0.854, 0.795, 0.815, 0.858, 0.873, 0.883, 0.871]\n",
      "[1.0, 0.651, 0.73, 0.681, 0.688, 0.642, 0.563, 0.492]\n"
     ]
    }
   ],
   "source": [
    "I_start = []\n",
    "friend_start = []\n",
    "for i in range(2,10):\n",
    "    I_start.append(simulate_games(i, 1000, True))\n",
    "    friend_start.append(simulate_games(i,1000,False))\n",
    "    \n",
    "\n",
    "print(I_start)\n",
    "print(friend_start)"
   ]
  },
  {
   "cell_type": "code",
   "execution_count": 76,
   "id": "9b8bb9c3",
   "metadata": {},
   "outputs": [
    {
     "data": {
      "image/png": "[encoded data removed]",
      "text/plain": [
       "<Figure size 640x480 with 1 Axes>"
      ]
     },
     "metadata": {},
     "output_type": "display_data"
    }
   ],
   "source": [
    "import matplotlib.pyplot as plt\n",
    "import numpy as np\n",
    "\n",
    "x = np.linspace(2,10)\n",
    "ypoints = np.array([3, 8, 1, 10])\n",
    "\n",
    "plt.plot(I_start)\n",
    "plt.plot(friend_start)\n",
    "plt.xlabel(\"n\")\n",
    "plt.ylabel(\"Winning rate\")\n",
    "plt.legend([\"I start\", \"friend start\"], loc=\"lower right\")\n",
    "plt.show()"
   ]
  }
 ],
 "metadata": {
  "kernelspec": {
   "display_name": "Python 3 (ipykernel)",
   "language": "python",
   "name": "python3"
  },
  "language_info": {
   "codemirror_mode": {
    "name": "ipython",
    "version": 3
   },
   "file_extension": ".py",
   "mimetype": "text/x-python",
   "name": "python",
   "nbconvert_exporter": "python",
   "pygments_lexer": "ipython3",
   "version": "3.11.1"
  }
 },
 "nbformat": 4,
 "nbformat_minor": 5
}
