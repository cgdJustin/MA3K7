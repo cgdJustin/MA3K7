{
 "cells": [
  {
   "cell_type": "code",
   "execution_count": 22,
   "id": "59b0301b",
   "metadata": {},
   "outputs": [],
   "source": [
    "def generate_bracelet(a, b):\n",
    "    \n",
    "    bracelet = [a, b]\n",
    "    while True:\n",
    "        next_num = (bracelet[-1] + bracelet[-2]) % 10\n",
    "        if next_num == bracelet[0] and (bracelet[-1] + bracelet[0]) % 10 == bracelet[1]:\n",
    "            break\n",
    "        bracelet.append(next_num)\n",
    "        \n",
    "    return tuple(bracelet)"
   ]
  },
  {
   "cell_type": "code",
   "execution_count": 23,
   "id": "c68f9886",
   "metadata": {},
   "outputs": [
    {
     "name": "stdout",
     "output_type": "stream",
     "text": [
      "(1, 5, 6, 1, 7, 8, 5, 3, 8, 1, 9, 0, 9, 9, 8, 7, 5, 2, 7, 9, 6, 5, 1, 6, 7, 3, 0, 3, 3, 6, 9, 5, 4, 9, 3, 2, 5, 7, 2, 9, 1, 0, 1, 1, 2, 3, 5, 8, 3, 1, 4, 5, 9, 4, 3, 7, 0, 7, 7, 4)\n",
      "(4, 1, 5, 6, 1, 7, 8, 5, 3, 8, 1, 9, 0, 9, 9, 8, 7, 5, 2, 7, 9, 6, 5, 1, 6, 7, 3, 0, 3, 3, 6, 9, 5, 4, 9, 3, 2, 5, 7, 2, 9, 1, 0, 1, 1, 2, 3, 5, 8, 3, 1, 4, 5, 9, 4, 3, 7, 0, 7, 7)\n"
     ]
    }
   ],
   "source": [
    "print(generate_bracelet(1, 5))\n",
    "print(generate_bracelet(4, 1))"
   ]
  },
  {
   "cell_type": "code",
   "execution_count": 24,
   "id": "15fac30a",
   "metadata": {},
   "outputs": [],
   "source": [
    "#Function to turn (1,2,3,4) to [(1,2),(2,3),(3,4)]\n",
    "def extract_pairs(bracelet):\n",
    "\n",
    "    pairs = set()\n",
    "    for i in range(len(bracelet)):\n",
    "        pairs.add((bracelet[i], bracelet[(i+1) % len(bracelet)]))\n",
    "    return pairs"
   ]
  },
  {
   "cell_type": "code",
   "execution_count": 38,
   "id": "bf0e1c2c",
   "metadata": {},
   "outputs": [
    {
     "data": {
      "text/plain": [
       "{(0, 1),\n",
       " (0, 3),\n",
       " (0, 7),\n",
       " (0, 9),\n",
       " (1, 0),\n",
       " (1, 1),\n",
       " (1, 2),\n",
       " (1, 4),\n",
       " (1, 5),\n",
       " (1, 6),\n",
       " (1, 7),\n",
       " (1, 9),\n",
       " (2, 3),\n",
       " (2, 5),\n",
       " (2, 7),\n",
       " (2, 9),\n",
       " (3, 0),\n",
       " (3, 1),\n",
       " (3, 2),\n",
       " (3, 3),\n",
       " (3, 5),\n",
       " (3, 6),\n",
       " (3, 7),\n",
       " (3, 8),\n",
       " (4, 1),\n",
       " (4, 3),\n",
       " (4, 5),\n",
       " (4, 9),\n",
       " (5, 1),\n",
       " (5, 2),\n",
       " (5, 3),\n",
       " (5, 4),\n",
       " (5, 6),\n",
       " (5, 7),\n",
       " (5, 8),\n",
       " (5, 9),\n",
       " (6, 1),\n",
       " (6, 5),\n",
       " (6, 7),\n",
       " (6, 9),\n",
       " (7, 0),\n",
       " (7, 2),\n",
       " (7, 3),\n",
       " (7, 4),\n",
       " (7, 5),\n",
       " (7, 7),\n",
       " (7, 8),\n",
       " (7, 9),\n",
       " (8, 1),\n",
       " (8, 3),\n",
       " (8, 5),\n",
       " (8, 7),\n",
       " (9, 0),\n",
       " (9, 1),\n",
       " (9, 3),\n",
       " (9, 4),\n",
       " (9, 5),\n",
       " (9, 6),\n",
       " (9, 8),\n",
       " (9, 9)}"
      ]
     },
     "execution_count": 38,
     "metadata": {},
     "output_type": "execute_result"
    }
   ],
   "source": [
    "# put the previous generated 60 pairs into a set S\n",
    "S = extract_pairs(generate_bracelet(1, 5))\n",
    "S"
   ]
  },
  {
   "cell_type": "code",
   "execution_count": 34,
   "id": "d0ea0421",
   "metadata": {},
   "outputs": [
    {
     "data": {
      "text/plain": [
       "{(0, 0),\n",
       " (0, 2),\n",
       " (0, 4),\n",
       " (0, 5),\n",
       " (0, 6),\n",
       " (0, 8),\n",
       " (1, 3),\n",
       " (1, 8),\n",
       " (2, 0),\n",
       " (2, 1),\n",
       " (2, 2),\n",
       " (2, 4),\n",
       " (2, 6),\n",
       " (2, 8),\n",
       " (3, 4),\n",
       " (3, 9),\n",
       " (4, 0),\n",
       " (4, 2),\n",
       " (4, 4),\n",
       " (4, 6),\n",
       " (4, 7),\n",
       " (4, 8),\n",
       " (5, 0),\n",
       " (5, 5),\n",
       " (6, 0),\n",
       " (6, 2),\n",
       " (6, 3),\n",
       " (6, 4),\n",
       " (6, 6),\n",
       " (6, 8),\n",
       " (7, 1),\n",
       " (7, 6),\n",
       " (8, 0),\n",
       " (8, 2),\n",
       " (8, 4),\n",
       " (8, 6),\n",
       " (8, 8),\n",
       " (8, 9),\n",
       " (9, 2),\n",
       " (9, 7)}"
      ]
     },
     "execution_count": 34,
     "metadata": {},
     "output_type": "execute_result"
    }
   ],
   "source": [
    "def all_possible_pairs(n):\n",
    "    \n",
    "    return {(i, j) for i in range(n) for j in range(n)}\n",
    "\n",
    "# All possible pairs\n",
    "all_pairs = all_possible_pairs(10)\n",
    "\n",
    "# Pairs not in S\n",
    "not_in_S = all_pairs - S\n",
    "not_in_S"
   ]
  },
  {
   "cell_type": "code",
   "execution_count": 37,
   "id": "db9f51ba",
   "metadata": {},
   "outputs": [
    {
     "name": "stdout",
     "output_type": "stream",
     "text": [
      "(0, 2, 2, 4, 6, 0, 6, 6, 2, 8, 0, 8, 8, 6, 4, 0, 4, 4, 8, 2)\n",
      "20\n"
     ]
    }
   ],
   "source": [
    "print(generate_bracelet(0,2))\n",
    "print(len(generate_bracelet(0,2)))"
   ]
  },
  {
   "cell_type": "code",
   "execution_count": 15,
   "id": "0921bf8f",
   "metadata": {},
   "outputs": [
    {
     "data": {
      "text/plain": [
       "6"
      ]
     },
     "execution_count": 15,
     "metadata": {},
     "output_type": "execute_result"
    }
   ],
   "source": [
    "# Main algorithm to count unique bracelets\n",
    "unique_bracelets = set()\n",
    "bracelet_pairs = set()\n",
    "\n",
    "for i in range(10):\n",
    "    for j in range(10):\n",
    "        if (i, j) not in bracelet_pairs:\n",
    "            new_bracelet = generate_bracelet(i, j)\n",
    "            new_pairs = extract_pairs(new_bracelet)\n",
    "            if not new_pairs.issubset(bracelet_pairs):\n",
    "                unique_bracelets.add(tuple(new_bracelet))\n",
    "                bracelet_pairs.update(new_pairs)\n",
    "\n",
    "# Count of unique bracelets\n",
    "count = len(unique_bracelets)\n",
    "count"
   ]
  }
 ],
 "metadata": {
  "kernelspec": {
   "display_name": "Python 3 (ipykernel)",
   "language": "python",
   "name": "python3"
  },
  "language_info": {
   "codemirror_mode": {
    "name": "ipython",
    "version": 3
   },
   "file_extension": ".py",
   "mimetype": "text/x-python",
   "name": "python",
   "nbconvert_exporter": "python",
   "pygments_lexer": "ipython3",
   "version": "3.11.1"
  }
 },
 "nbformat": 4,
 "nbformat_minor": 5
}
